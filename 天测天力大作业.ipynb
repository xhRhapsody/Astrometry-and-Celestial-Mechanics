{
 "cells": [
  {
   "cell_type": "markdown",
   "metadata": {
    "Collapsed": "false"
   },
   "source": [
    "姓名：李雪劼  \n",
    "学号：201800401058  \n",
    "班级：2018级空间班"
   ]
  },
  {
   "cell_type": "markdown",
   "metadata": {
    "Collapsed": "false"
   },
   "source": [
    "# 题目介绍"
   ]
  },
  {
   "cell_type": "markdown",
   "metadata": {
    "Collapsed": "false"
   },
   "source": [
    "计算 2020 年内阴历的 \n",
    "\n",
    "    (1)朔时刻(精确到分钟)  \n",
    "    (2)望时刻(精确到分钟)  \n",
    "    (3)并据此给出年内阴历与阳历的对应日期(给出朔、望日的对应即可)"
   ]
  },
  {
   "cell_type": "markdown",
   "metadata": {
    "Collapsed": "false"
   },
   "source": [
    "# 原理分析"
   ]
  },
  {
   "cell_type": "markdown",
   "metadata": {
    "Collapsed": "false"
   },
   "source": [
    "朔日：太阳黄经与月球黄经一致   \n",
    "望日：太阳黄经与月球黄经相差180°  \n",
    "![原理图](./Picture1.png)"
   ]
  },
  {
   "cell_type": "markdown",
   "metadata": {
    "Collapsed": "false"
   },
   "source": [
    "# 模型建立"
   ]
  },
  {
   "cell_type": "markdown",
   "metadata": {
    "Collapsed": "false"
   },
   "source": [
    "对于本问题，我选择构建：\n",
    "状态函数变化 + 步长折半减小算法求解  \n",
    "\n",
    "![模型图](./Picture2.png)"
   ]
  },
  {
   "cell_type": "markdown",
   "metadata": {
    "Collapsed": "false"
   },
   "source": [
    "# 程序代码"
   ]
  },
  {
   "cell_type": "markdown",
   "metadata": {
    "Collapsed": "false"
   },
   "source": [
    "## 准备条件"
   ]
  },
  {
   "cell_type": "markdown",
   "metadata": {
    "Collapsed": "false"
   },
   "source": [
    "1. Python 安装可以使用 Anaconda(具体安装步骤可参考[Anaconda安装步骤](https://blog.csdn.net/qq_36477513/article/details/108034280?utm_medium=distribute.pc_relevant.none-task-blog-title-10&spm=1001.2101.3001.4242))  \n",
    "2. ehpem package 安装可以参考https://pypi.org/project/ephem/\n",
    "3. 为了完成不同的计算任务，可能需要不同的库，常见如 scipy, numpy, matplotlib... 可以视情况使用命令 ```conda install xxx(库名)``` 安装配置。"
   ]
  },
  {
   "cell_type": "markdown",
   "metadata": {
    "Collapsed": "false"
   },
   "source": [
    "## 具体代码实现"
   ]
  },
  {
   "cell_type": "code",
   "execution_count": 1,
   "metadata": {
    "Collapsed": "false",
    "ExecuteTime": {
     "end_time": "2020-11-03T08:11:52.300359Z",
     "start_time": "2020-11-03T08:11:52.281099Z"
    }
   },
   "outputs": [],
   "source": [
    "from ephem import *\n",
    "import math\n",
    "import datetime\n",
    "import ephem"
   ]
  },
  {
   "cell_type": "markdown",
   "metadata": {
    "Collapsed": "false"
   },
   "source": [
    "### My Way to 计算下一个朔望日"
   ]
  },
  {
   "cell_type": "code",
   "execution_count": 2,
   "metadata": {
    "Collapsed": "false",
    "ExecuteTime": {
     "end_time": "2020-11-03T08:11:56.418201Z",
     "start_time": "2020-11-03T08:11:56.414836Z"
    },
    "run_control": {
     "marked": true
    }
   },
   "outputs": [],
   "source": [
    "event=[] #不同天体不同状态对应的天象名称\n",
    "event.append({1:\"新　月\", 2:\"满　月\"}) #月亮\n",
    "# 设置数字对应的天体名称\n",
    "body={0:\"月亮\"}"
   ]
  },
  {
   "cell_type": "code",
   "execution_count": 3,
   "metadata": {
    "Collapsed": "false",
    "ExecuteTime": {
     "end_time": "2020-11-03T08:11:57.123086Z",
     "start_time": "2020-11-03T08:11:57.107978Z"
    },
    "code_folding": []
   },
   "outputs": [],
   "source": [
    "# 迭代求天象时间\n",
    "def iteration(jd, n, sta):  #jd：要求的开始时间，n：天体的代号，sta：不同的状态函数\n",
    "    s1 = sta(jd, n)  #初始状态\n",
    "    s0 = s1\n",
    "    dt = 1.0  #初始时间改变量设为1天\n",
    "    while True:\n",
    "        jd += dt\n",
    "        s = sta(jd, n)\n",
    "        if s0 != s:\n",
    "            s0 = s\n",
    "            dt = -dt/2  #使时间改变量折半减小\n",
    "        if abs(dt) < 0.0000001 and s == s1:  #s==s1是为了让求得的时间在天象发生之前\n",
    "            break\n",
    "    return jd\n",
    "\n",
    "\n",
    "# 计算黄经\n",
    "def ecliptic_coor(jd_utc, n):\n",
    "    if n==0:\n",
    "        p=Moon(jd_utc)#月球\n",
    "    else:\n",
    "        p=Sun(jd_utc)#太阳\n",
    "    eq = Equatorial(p.ra, p.dec, epoch=jd_utc)  #求天体的视赤经视赤纬（epoch设为所求时间就是视赤经视赤纬）\n",
    "    ec = Ecliptic(eq)  #赤经赤纬转到黄经黄纬\n",
    "    return ec.lon, ec.lat  #返回黄经\n",
    "\n",
    "\n",
    "# 给定两个黄经a1和a2，判断a2在a1的哪一侧，东（设为0），西（设为1）\n",
    "def east_west_angle(a1, a2):\n",
    "    if abs(a1-a2) < math.pi: #意味着两个天体之间没有跨越黄经0点\n",
    "        if a2 < a1:\n",
    "            return 1\n",
    "        else:\n",
    "            return 0\n",
    "    else:\n",
    "        if a2 < a1:\n",
    "            return 0\n",
    "        else:\n",
    "            return 1\n",
    "\n",
    "        \n",
    "# 设m为太阳，求相对于太阳的参数\n",
    "# 求黄经差\n",
    "def ecliptic_angle(jd, m, n):\n",
    "    a1 = ecliptic_coor(jd, m)\n",
    "    a2 = ecliptic_coor(jd, n)\n",
    "    if abs(a1[0]-a2[0]) < math.pi: #意味着两个天体之间没有跨越黄经0点\n",
    "        return abs(a1[0] - a2[0])\n",
    "    else:\n",
    "        return 2*math.pi - abs(a1[0]-a2[0])\n",
    "\n",
    "    \n",
    "# 根据黄经判断天体n在太阳的哪一侧，东（设为0）或者西（设为1）\n",
    "def east_west(jd_utc, n):\n",
    "    a1 = ecliptic_coor(jd_utc, -1)\n",
    "    a2 = ecliptic_coor(jd_utc, n)\n",
    "    return east_west_angle(a1[0], a2[0])\n",
    "\n",
    "\n",
    "# 判断并输出计算的天象名称   \n",
    "def print_time(jd, n):\n",
    "    i = 0\n",
    "    s = 0\n",
    "    e = ecliptic_angle(jd, -1, n)*180 / math.pi #判断黄经差值\n",
    "    if abs(180-e) < 1:\n",
    "        s = 2\n",
    "    elif e < 1:\n",
    "        s = 1\n",
    "    print(\"{0}：{1}\".format(event[i][s], Date(jd+1/3)))\n",
    "\n",
    "    \n",
    "# 计算天体n在jd时间时的下个满月/新月时间\n",
    "def next_conjunction(jd, n):   \n",
    "    return iteration(jd, n, east_west)\n",
    "\n",
    "\n",
    "# 求未来1次天体处于特殊几何位置的时间\n",
    "def event_time(jd, n, num): #分别输入时间（ephem儒略日），天体，要计算的接下来要发生的天象个数\n",
    "    jd0 = jd\n",
    "    k = 0\n",
    "    while True:\n",
    "        jd1 = next_conjunction(jd0, n) \n",
    "        print_time(jd1, n)\n",
    "        k += 1\n",
    "        if k == num:\n",
    "            break \n",
    "        jd0 = jd1 + 2 #加上2天以改变天体状态\n",
    "    return jd1"
   ]
  },
  {
   "cell_type": "code",
   "execution_count": 4,
   "metadata": {
    "Collapsed": "false",
    "ExecuteTime": {
     "end_time": "2020-11-03T08:11:58.621540Z",
     "start_time": "2020-11-03T08:11:58.539321Z"
    }
   },
   "outputs": [
    {
     "name": "stdout",
     "output_type": "stream",
     "text": [
      "满　月：2020/1/11 03:21:17\n",
      "新　月：2020/1/25 05:41:59\n",
      "满　月：2020/2/9 15:33:16\n",
      "新　月：2020/2/23 23:32:00\n",
      "满　月：2020/3/10 01:47:43\n",
      "新　月：2020/3/24 17:28:11\n",
      "满　月：2020/4/8 10:35:03\n",
      "新　月：2020/4/23 10:25:49\n",
      "满　月：2020/5/7 18:45:11\n",
      "新　月：2020/5/23 01:38:49\n",
      "满　月：2020/6/6 03:12:21\n",
      "新　月：2020/6/21 14:41:25\n",
      "满　月：2020/7/5 12:44:22\n",
      "新　月：2020/7/21 01:32:55\n",
      "满　月：2020/8/3 23:58:43\n",
      "新　月：2020/8/19 10:41:37\n",
      "满　月：2020/9/2 13:22:02\n",
      "新　月：2020/9/17 19:00:10\n",
      "满　月：2020/10/2 05:05:13\n",
      "新　月：2020/10/17 03:31:01\n",
      "满　月：2020/10/31 22:49:07\n",
      "新　月：2020/11/15 13:07:09\n",
      "满　月：2020/11/30 17:29:40\n",
      "新　月：2020/12/15 00:16:33\n",
      "满　月：2020/12/30 11:28:11\n",
      "新　月：2021/1/13 13:00:09\n"
     ]
    }
   ],
   "source": [
    "ini_jd=ephem.date('2020/1/1')\n",
    "end_date = ephem.date('2020/12/31')\n",
    "while (1):\n",
    "    jd = ini_jd\n",
    "    if jd < end_date:\n",
    "        jd = event_time(ini_jd, 0, 2)\n",
    "        ini_jd = jd + 2\n",
    "    else:\n",
    "        break"
   ]
  },
  {
   "cell_type": "markdown",
   "metadata": {
    "Collapsed": "false"
   },
   "source": [
    "### Use Ephem Function to 计算下一个朔望日"
   ]
  },
  {
   "cell_type": "code",
   "execution_count": 107,
   "metadata": {
    "Collapsed": "false",
    "ExecuteTime": {
     "end_time": "2020-11-03T08:45:00.328396Z",
     "start_time": "2020-11-03T08:45:00.317155Z"
    },
    "run_control": {
     "marked": true
    }
   },
   "outputs": [
    {
     "name": "stdout",
     "output_type": "stream",
     "text": [
      "2020/1/11 03:21:17\n",
      "2020/2/9 15:33:16\n",
      "2020/3/10 01:47:43\n",
      "2020/4/8 10:35:03\n",
      "2020/5/7 18:45:11\n",
      "2020/6/6 03:12:21\n",
      "2020/7/5 12:44:22\n",
      "2020/8/3 23:58:43\n",
      "2020/9/2 13:22:02\n",
      "2020/10/2 05:05:13\n",
      "2020/10/31 22:49:07\n",
      "2020/11/30 17:29:40\n",
      "2020/12/30 11:28:11\n"
     ]
    }
   ],
   "source": [
    "full_moon_date = []\n",
    "ini_date = '2020/1/1'\n",
    "end_date = '2020/12/31'\n",
    "while (1):\n",
    "    d = next_full_moon(ini_date)\n",
    "    if julian_date(d) <  julian_date(end_date):\n",
    "        d = Date(ephem.date(d+1/3))\n",
    "        print(d)\n",
    "        full_moon_date.append(str(d))\n",
    "        ini_date = d\n",
    "    else:\n",
    "        break"
   ]
  },
  {
   "cell_type": "code",
   "execution_count": 106,
   "metadata": {
    "Collapsed": "false",
    "ExecuteTime": {
     "end_time": "2020-11-03T08:44:45.678280Z",
     "start_time": "2020-11-03T08:44:45.662807Z"
    }
   },
   "outputs": [
    {
     "name": "stdout",
     "output_type": "stream",
     "text": [
      "2020/1/25 05:41:59\n",
      "2020/2/23 23:32:00\n",
      "2020/3/24 17:28:11\n",
      "2020/4/23 10:25:49\n",
      "2020/5/23 01:38:49\n",
      "2020/6/21 14:41:25\n",
      "2020/7/21 01:32:55\n",
      "2020/8/19 10:41:37\n",
      "2020/9/17 19:00:10\n",
      "2020/10/17 03:31:01\n",
      "2020/11/15 13:07:09\n",
      "2020/12/15 00:16:33\n"
     ]
    }
   ],
   "source": [
    "new_moon_date = []\n",
    "ini_date = '2020/1/1'\n",
    "end_date = '2020/12/31'\n",
    "while (1):\n",
    "    d = next_new_moon(ini_date)\n",
    "    if julian_date(d) <  julian_date(end_date):\n",
    "        d = Date(ephem.date(d+1/3))\n",
    "        print(d)\n",
    "        new_moon_date.append(str(d))\n",
    "        ini_date = d\n",
    "    else:\n",
    "        break"
   ]
  },
  {
   "cell_type": "markdown",
   "metadata": {
    "Collapsed": "false"
   },
   "source": [
    "### Transfrom to Lunar Day "
   ]
  },
  {
   "cell_type": "code",
   "execution_count": 110,
   "metadata": {
    "Collapsed": "false",
    "ExecuteTime": {
     "end_time": "2020-11-03T08:49:54.054241Z",
     "start_time": "2020-11-03T08:49:54.048749Z"
    }
   },
   "outputs": [],
   "source": [
    "import datetime\n",
    " \n",
    "def days(str1,str2):\n",
    "    date1=datetime.datetime.strptime(str1[0:-9],\"%Y/%m/%d\")\n",
    "    date2=datetime.datetime.strptime(str2[0:-9],\"%Y/%m/%d\")\n",
    "    num=(date1-date2).days\n",
    "    return num"
   ]
  },
  {
   "cell_type": "code",
   "execution_count": 108,
   "metadata": {
    "Collapsed": "false",
    "ExecuteTime": {
     "end_time": "2020-11-03T08:45:42.346313Z",
     "start_time": "2020-11-03T08:45:42.339731Z"
    },
    "scrolled": true
   },
   "outputs": [
    {
     "data": {
      "text/plain": [
       "['2020/2/9 15:33:16',\n",
       " '2020/3/10 01:47:43',\n",
       " '2020/4/8 10:35:03',\n",
       " '2020/5/7 18:45:11',\n",
       " '2020/6/6 03:12:21',\n",
       " '2020/7/5 12:44:22',\n",
       " '2020/8/3 23:58:43',\n",
       " '2020/9/2 13:22:02',\n",
       " '2020/10/2 05:05:13',\n",
       " '2020/10/31 22:49:07',\n",
       " '2020/11/30 17:29:40',\n",
       " '2020/12/30 11:28:11']"
      ]
     },
     "execution_count": 108,
     "metadata": {},
     "output_type": "execute_result"
    }
   ],
   "source": [
    "# full_moon_date = full_moon_date[1:]\n",
    "full_moon_date"
   ]
  },
  {
   "cell_type": "code",
   "execution_count": 109,
   "metadata": {
    "Collapsed": "false"
   },
   "outputs": [
    {
     "data": {
      "text/plain": [
       "['2020/1/25 05:41:59',\n",
       " '2020/2/23 23:32:00',\n",
       " '2020/3/24 17:28:11',\n",
       " '2020/4/23 10:25:49',\n",
       " '2020/5/23 01:38:49',\n",
       " '2020/6/21 14:41:25',\n",
       " '2020/7/21 01:32:55',\n",
       " '2020/8/19 10:41:37',\n",
       " '2020/9/17 19:00:10',\n",
       " '2020/10/17 03:31:01',\n",
       " '2020/11/15 13:07:09',\n",
       " '2020/12/15 00:16:33']"
      ]
     },
     "execution_count": 109,
     "metadata": {},
     "output_type": "execute_result"
    }
   ],
   "source": [
    "new_moon_date"
   ]
  },
  {
   "cell_type": "code",
   "execution_count": 111,
   "metadata": {
    "Collapsed": "false",
    "ExecuteTime": {
     "end_time": "2020-11-03T09:03:36.098395Z",
     "start_time": "2020-11-03T09:03:36.083379Z"
    }
   },
   "outputs": [
    {
     "data": {
      "text/plain": [
       "[15, 16, 15, 14, 14, 14, 13, 14, 15, 14, 15, 15]"
      ]
     },
     "execution_count": 111,
     "metadata": {},
     "output_type": "execute_result"
    }
   ],
   "source": [
    "delta_day = []\n",
    "for d1, d2 in zip(full_moon_date, new_moon_date):\n",
    "    delta_day.append(days(d1, d2))\n",
    "delta_day"
   ]
  },
  {
   "cell_type": "markdown",
   "metadata": {
    "Collapsed": "false"
   },
   "source": [
    "# 结果展示"
   ]
  },
  {
   "cell_type": "markdown",
   "metadata": {
    "Collapsed": "false"
   },
   "source": [
    "![结果图](./Picture3.png)"
   ]
  },
  {
   "cell_type": "markdown",
   "metadata": {
    "Collapsed": "false"
   },
   "source": [
    "与PMO（紫金山天文台）给出的天文年历在分钟精度量级上保持一致无差异"
   ]
  }
 ],
 "metadata": {
  "kernelspec": {
   "display_name": "Python 3",
   "language": "python",
   "name": "python3"
  },
  "language_info": {
   "codemirror_mode": {
    "name": "ipython",
    "version": 3
   },
   "file_extension": ".py",
   "mimetype": "text/x-python",
   "name": "python",
   "nbconvert_exporter": "python",
   "pygments_lexer": "ipython3",
   "version": "3.7.4"
  },
  "latex_envs": {
   "LaTeX_envs_menu_present": true,
   "autoclose": false,
   "autocomplete": true,
   "bibliofile": "biblio.bib",
   "cite_by": "apalike",
   "current_citInitial": 1,
   "eqLabelWithNumbers": true,
   "eqNumInitial": 1,
   "hotkeys": {
    "equation": "Ctrl-E",
    "itemize": "Ctrl-I"
   },
   "labels_anchors": false,
   "latex_user_defs": false,
   "report_style_numbering": false,
   "user_envs_cfg": false
  },
  "toc": {
   "base_numbering": 1,
   "nav_menu": {},
   "number_sections": true,
   "sideBar": true,
   "skip_h1_title": false,
   "title_cell": "Table of Contents",
   "title_sidebar": "Contents",
   "toc_cell": false,
   "toc_position": {},
   "toc_section_display": true,
   "toc_window_display": true
  },
  "toc-showtags": false,
  "varInspector": {
   "cols": {
    "lenName": 16,
    "lenType": 16,
    "lenVar": 40
   },
   "kernels_config": {
    "python": {
     "delete_cmd_postfix": "",
     "delete_cmd_prefix": "del ",
     "library": "var_list.py",
     "varRefreshCmd": "print(var_dic_list())"
    },
    "r": {
     "delete_cmd_postfix": ") ",
     "delete_cmd_prefix": "rm(",
     "library": "var_list.r",
     "varRefreshCmd": "cat(var_dic_list()) "
    }
   },
   "types_to_exclude": [
    "module",
    "function",
    "builtin_function_or_method",
    "instance",
    "_Feature"
   ],
   "window_display": false
  }
 },
 "nbformat": 4,
 "nbformat_minor": 4
}
